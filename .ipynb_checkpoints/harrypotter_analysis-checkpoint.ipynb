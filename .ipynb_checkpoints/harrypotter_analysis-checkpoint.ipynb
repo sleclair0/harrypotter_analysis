{
 "cells": [
  {
   "cell_type": "code",
   "execution_count": 1,
   "metadata": {
    "collapsed": true
   },
   "outputs": [],
   "source": [
    "import os\n",
    "import re\n",
    "import numpy as np\n",
    "import pandas as pd\n",
    "import seaborn as sns\n",
    "import sklearn.manifold\n",
    "import matplotlib.pyplot as plt\n",
    "%matplotlib inline\n",
    "\n",
    "import glob, codecs, multiprocessing\n",
    "from importlib import reload\n",
    "from gensim.models import word2vec"
   ]
  },
  {
   "cell_type": "code",
   "execution_count": 2,
   "metadata": {
    "collapsed": false
   },
   "outputs": [
    {
     "name": "stdout",
     "output_type": "stream",
     "text": [
      "[nltk_data] Downloading package words to\n",
      "[nltk_data]     /home/hell_raider/nltk_data...\n",
      "[nltk_data]   Package words is already up-to-date!\n",
      "[nltk_data] Downloading package punkt to\n",
      "[nltk_data]     /home/hell_raider/nltk_data...\n",
      "[nltk_data]   Package punkt is already up-to-date!\n",
      "[nltk_data] Downloading package stopwords to\n",
      "[nltk_data]     /home/hell_raider/nltk_data...\n",
      "[nltk_data]   Package stopwords is already up-to-date!\n"
     ]
    },
    {
     "data": {
      "text/plain": [
       "True"
      ]
     },
     "execution_count": 2,
     "metadata": {},
     "output_type": "execute_result"
    }
   ],
   "source": [
    "import nltk\n",
    "from nltk.corpus import stopwords\n",
    "nltk.download('words')\n",
    "nltk.download('punkt')\n",
    "nltk.download('stopwords')"
   ]
  },
  {
   "cell_type": "code",
   "execution_count": 3,
   "metadata": {
    "collapsed": true
   },
   "outputs": [],
   "source": [
    "import logging\n",
    "logging.basicConfig(format='%(asctime)s : %(levelname)s : %(message)s', level=logging.INFO)"
   ]
  },
  {
   "cell_type": "code",
   "execution_count": 4,
   "metadata": {
    "collapsed": false
   },
   "outputs": [],
   "source": [
    "reference_filenames = sorted(glob.glob(\"src/part*.txt\"))"
   ]
  },
  {
   "cell_type": "code",
   "execution_count": 5,
   "metadata": {
    "collapsed": false
   },
   "outputs": [],
   "source": [
    "corpus_raw = u\"\"\n",
    "for book_filename in reference_filenames:\n",
    "    with codecs.open(book_filename, \"r\", \"utf-8\") as book_file:\n",
    "        corpus_raw += book_file.read()"
   ]
  },
  {
   "cell_type": "code",
   "execution_count": 6,
   "metadata": {
    "collapsed": true
   },
   "outputs": [],
   "source": [
    "tokenizer = nltk.data.load('tokenizers/punkt/english.pickle')\n",
    "raw_sentences = tokenizer.tokenize(corpus_raw)"
   ]
  },
  {
   "cell_type": "code",
   "execution_count": 7,
   "metadata": {
    "collapsed": true
   },
   "outputs": [],
   "source": [
    "def sentence_to_wordlist(raw, remove_stopwords):\n",
    "    clean = re.sub(\"[^a-zA-Z]\",\" \", raw)\n",
    "    words = clean.lower().split()\n",
    "    \n",
    "    if remove_stopwords ==True:\n",
    "        stops = set(stopwords.words(\"english\"))\n",
    "        words = [w for w in words if not w in stops]\n",
    "    return words"
   ]
  },
  {
   "cell_type": "code",
   "execution_count": 8,
   "metadata": {
    "collapsed": true
   },
   "outputs": [],
   "source": [
    "sentences = []\n",
    "for raw_sentence in raw_sentences:\n",
    "    if len(raw_sentence) > 0:\n",
    "        sentences.append(sentence_to_wordlist(raw_sentence, remove_stopwords=True))"
   ]
  },
  {
   "cell_type": "code",
   "execution_count": 9,
   "metadata": {
    "collapsed": false
   },
   "outputs": [],
   "source": [
    "#sentences[0]\n",
    "#sentence_to_wordlist(raw_sentences[0],remove_stopwords=True)"
   ]
  },
  {
   "cell_type": "code",
   "execution_count": 10,
   "metadata": {
    "collapsed": false
   },
   "outputs": [
    {
     "name": "stderr",
     "output_type": "stream",
     "text": [
      "2018-01-16 23:57:05,512 : INFO : collecting all words and their counts\n",
      "2018-01-16 23:57:05,514 : INFO : PROGRESS: at sentence #0, processed 0 words, keeping 0 word types\n",
      "2018-01-16 23:57:05,532 : INFO : PROGRESS: at sentence #10000, processed 69968 words, keeping 8385 word types\n",
      "2018-01-16 23:57:05,540 : INFO : collected 10696 word types from a corpus of 101286 raw words and 14241 sentences\n",
      "2018-01-16 23:57:05,541 : INFO : Loading a fresh vocabulary\n",
      "2018-01-16 23:57:05,546 : INFO : min_count=40 retains 473 unique words (4% of original 10696, drops 10223)\n",
      "2018-01-16 23:57:05,546 : INFO : min_count=40 leaves 55246 word corpus (54% of original 101286, drops 46040)\n",
      "2018-01-16 23:57:05,548 : INFO : deleting the raw counts dictionary of 10696 items\n",
      "2018-01-16 23:57:05,550 : INFO : sample=0.001 downsamples 97 most-common words\n",
      "2018-01-16 23:57:05,551 : INFO : downsampling leaves estimated 43202 word corpus (78.2% of prior 55246)\n",
      "2018-01-16 23:57:05,552 : INFO : estimated required memory for 473 words and 300 dimensions: 1371700 bytes\n",
      "2018-01-16 23:57:05,554 : INFO : resetting layer weights\n",
      "2018-01-16 23:57:05,562 : INFO : training model with 4 workers on 473 vocabulary and 300 features, using sg=0 hs=0 sample=0.001 negative=5 window=10\n",
      "2018-01-16 23:57:05,812 : INFO : worker thread finished; awaiting finish of 3 more threads\n",
      "2018-01-16 23:57:05,818 : INFO : worker thread finished; awaiting finish of 2 more threads\n",
      "2018-01-16 23:57:05,819 : INFO : worker thread finished; awaiting finish of 1 more threads\n",
      "2018-01-16 23:57:05,820 : INFO : worker thread finished; awaiting finish of 0 more threads\n",
      "2018-01-16 23:57:05,821 : INFO : training on 506430 raw words (216061 effective words) took 0.2s, 940358 effective words/s\n",
      "2018-01-16 23:57:05,822 : INFO : precomputing L2-norms of word weight vectors\n"
     ]
    }
   ],
   "source": [
    "num_features = 300             \n",
    "min_word_count = 40                         \n",
    "num_workers = 4      \n",
    "context = 10                                                                                         \n",
    "downsampling = 1e-3\n",
    "\n",
    "model = word2vec.Word2Vec(sentences, workers=num_workers, size=num_features, min_count = min_word_count, window = context, sample = downsampling, seed=1)\n",
    "model.init_sims(replace=True)"
   ]
  },
  {
   "cell_type": "code",
   "execution_count": 11,
   "metadata": {
    "collapsed": false
   },
   "outputs": [
    {
     "name": "stderr",
     "output_type": "stream",
     "text": [
      "2018-01-16 23:57:05,834 : INFO : saving Word2Vec object under HarryPotter.w2v, separately None\n",
      "2018-01-16 23:57:05,835 : INFO : not storing attribute syn0norm\n",
      "2018-01-16 23:57:05,836 : INFO : not storing attribute cum_table\n",
      "2018-01-16 23:57:05,850 : INFO : saved HarryPotter.w2v\n"
     ]
    }
   ],
   "source": [
    "model_name = \"HarryPotter.w2v\"\n",
    "model.save(model_name)"
   ]
  },
  {
   "cell_type": "code",
   "execution_count": 12,
   "metadata": {
    "collapsed": false
   },
   "outputs": [
    {
     "name": "stderr",
     "output_type": "stream",
     "text": [
      "2018-01-16 23:57:05,989 : INFO : loading Word2Vec object from HarryPotter.w2v\n",
      "2018-01-16 23:57:06,000 : INFO : loading wv recursively from HarryPotter.w2v.wv.* with mmap=None\n",
      "2018-01-16 23:57:06,001 : INFO : setting ignored attribute syn0norm to None\n",
      "2018-01-16 23:57:06,002 : INFO : setting ignored attribute cum_table to None\n",
      "2018-01-16 23:57:06,003 : INFO : loaded HarryPotter.w2v\n"
     ]
    }
   ],
   "source": [
    "load_model = word2vec.Word2Vec.load(\"HarryPotter.w2v\")"
   ]
  },
  {
   "cell_type": "code",
   "execution_count": 13,
   "metadata": {
    "collapsed": false
   },
   "outputs": [
    {
     "name": "stderr",
     "output_type": "stream",
     "text": [
      "/home/hell_raider/.local/lib/python3.5/site-packages/ipykernel_launcher.py:1: DeprecationWarning: Call to deprecated `most_similar` (Method will be removed in 4.0.0, use self.wv.most_similar() instead).\n",
      "  \"\"\"Entry point for launching an IPython kernel.\n",
      "2018-01-16 23:57:06,083 : INFO : precomputing L2-norms of word weight vectors\n"
     ]
    },
    {
     "data": {
      "text/plain": [
       "[('neville', 0.9998724460601807),\n",
       " ('slughorn', 0.9998594522476196),\n",
       " ('sight', 0.9998570680618286),\n",
       " ('gryffindor', 0.999855101108551),\n",
       " ('flying', 0.9998477101325989),\n",
       " ('narcissa', 0.999845564365387),\n",
       " ('book', 0.9998432397842407),\n",
       " ('taking', 0.9998406171798706),\n",
       " ('continued', 0.999840259552002),\n",
       " ('desk', 0.9998396635055542)]"
      ]
     },
     "execution_count": 13,
     "metadata": {},
     "output_type": "execute_result"
    }
   ],
   "source": [
    "load_model.most_similar(\"snape\")"
   ]
  },
  {
   "cell_type": "code",
   "execution_count": 14,
   "metadata": {
    "collapsed": false
   },
   "outputs": [
    {
     "name": "stderr",
     "output_type": "stream",
     "text": [
      "/home/hell_raider/.local/lib/python3.5/site-packages/ipykernel_launcher.py:1: DeprecationWarning: Call to deprecated `most_similar` (Method will be removed in 4.0.0, use self.wv.most_similar() instead).\n",
      "  \"\"\"Entry point for launching an IPython kernel.\n"
     ]
    },
    {
     "data": {
      "text/plain": [
       "[('ron', 0.9998289942741394),\n",
       " ('percy', 0.9998274445533752),\n",
       " ('tonks', 0.9998146891593933),\n",
       " ('slughorn', 0.9998093247413635),\n",
       " ('hard', 0.9998055696487427),\n",
       " ('trunk', 0.9998050332069397),\n",
       " ('right', 0.9998040199279785),\n",
       " ('potion', 0.9998038411140442),\n",
       " ('sight', 0.9997999668121338),\n",
       " ('snape', 0.9997997283935547)]"
      ]
     },
     "execution_count": 14,
     "metadata": {},
     "output_type": "execute_result"
    }
   ],
   "source": [
    "load_model.most_similar(\"hermione\")"
   ]
  },
  {
   "cell_type": "code",
   "execution_count": 15,
   "metadata": {
    "collapsed": false
   },
   "outputs": [],
   "source": [
    "word_vectors = model.wv"
   ]
  },
  {
   "cell_type": "code",
   "execution_count": 16,
   "metadata": {
    "collapsed": false
   },
   "outputs": [
    {
     "data": {
      "text/plain": [
       "0.9996987526778015"
      ]
     },
     "execution_count": 16,
     "metadata": {},
     "output_type": "execute_result"
    }
   ],
   "source": [
    "word_vectors.similarity('harry', 'hermione')"
   ]
  },
  {
   "cell_type": "code",
   "execution_count": 17,
   "metadata": {
    "collapsed": false
   },
   "outputs": [
    {
     "name": "stderr",
     "output_type": "stream",
     "text": [
      "/home/hell_raider/.local/lib/python3.5/site-packages/ipykernel_launcher.py:8: DeprecationWarning: Call to deprecated `wmdistance` (Method will be removed in 4.0.0, use self.wv.wmdistance() instead).\n",
      "  \n",
      "2018-01-16 23:57:06,432 : INFO : Removed 5 and 16 OOV words from document 1 and 2 (respectively).\n",
      "2018-01-16 23:57:06,433 : INFO : adding document #0 to Dictionary(0 unique tokens: [])\n",
      "2018-01-16 23:57:06,434 : INFO : built Dictionary(2 unique tokens: ['harry', 'hermione']) from 2 documents (total 4 corpus positions)\n"
     ]
    },
    {
     "data": {
      "text/plain": [
       "0.0"
      ]
     },
     "execution_count": 17,
     "metadata": {},
     "output_type": "execute_result"
    }
   ],
   "source": [
    "ron_herm = \"I simply want to say that it doesn't matter if Ron loved Hermione or not. She never loved him.\".lower().split()\n",
    "har_herm = \"Above all the lies, I won't forget to add that Hermione has loved Harry before they were born\".lower().split()\n",
    "\n",
    "stopwords = nltk.corpus.stopwords.words('english')\n",
    "ron_herm = [w for w in ron_herm if w not in stopwords]\n",
    "ron_herm = [w for w in har_herm if w not in stopwords]\n",
    "\n",
    "distance = model.wmdistance(ron_herm, har_herm)\n",
    "distance"
   ]
  },
  {
   "cell_type": "code",
   "execution_count": 18,
   "metadata": {
    "collapsed": false
   },
   "outputs": [
    {
     "data": {
      "text/plain": [
       "'gryffindor'"
      ]
     },
     "execution_count": 18,
     "metadata": {},
     "output_type": "execute_result"
    }
   ],
   "source": [
    "word_vectors.most_similar_to_given('harry', ['snape', 'gryffindor', 'hermione', 'magic'])"
   ]
  }
 ],
 "metadata": {
  "kernelspec": {
   "display_name": "Python 3",
   "language": "python",
   "name": "python3"
  },
  "language_info": {
   "codemirror_mode": {
    "name": "ipython",
    "version": 3
   },
   "file_extension": ".py",
   "mimetype": "text/x-python",
   "name": "python",
   "nbconvert_exporter": "python",
   "pygments_lexer": "ipython3",
   "version": "3.5.2"
  }
 },
 "nbformat": 4,
 "nbformat_minor": 2
}
