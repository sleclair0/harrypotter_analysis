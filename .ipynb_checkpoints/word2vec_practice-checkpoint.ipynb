{
 "cells": [
  {
   "cell_type": "code",
   "execution_count": 1,
   "metadata": {
    "collapsed": false
   },
   "outputs": [],
   "source": [
    "import os\n",
    "import re\n",
    "import numpy as np\n",
    "import pandas as pd\n",
    "import seaborn as sns\n",
    "import sklearn.manifold\n",
    "import matplotlib.pyplot as plt\n",
    "%matplotlib inline\n",
    "\n",
    "import codecs, glob, multiprocessing, pprint\n",
    "from gensim.models import word2vec"
   ]
  },
  {
   "cell_type": "code",
   "execution_count": 2,
   "metadata": {
    "collapsed": false
   },
   "outputs": [
    {
     "name": "stdout",
     "output_type": "stream",
     "text": [
      "[nltk_data] Error loading words: <urlopen error [Errno -3] Temporary\n",
      "[nltk_data]     failure in name resolution>\n",
      "[nltk_data] Error loading punkt: <urlopen error [Errno -3] Temporary\n",
      "[nltk_data]     failure in name resolution>\n",
      "[nltk_data] Error loading stopwords: <urlopen error [Errno -3]\n",
      "[nltk_data]     Temporary failure in name resolution>\n",
      "[nltk_data] Error loading maxent_ne_chunker: <urlopen error [Errno -3]\n",
      "[nltk_data]     Temporary failure in name resolution>\n",
      "[nltk_data] Error loading averaged_perceptron_tagger: <urlopen error\n",
      "[nltk_data]     [Errno -3] Temporary failure in name resolution>\n"
     ]
    },
    {
     "data": {
      "text/plain": [
       "False"
      ]
     },
     "execution_count": 2,
     "metadata": {},
     "output_type": "execute_result"
    }
   ],
   "source": [
    "import nltk\n",
    "from nltk.corpus import stopwords\n",
    "nltk.download('words')\n",
    "nltk.download('punkt')\n",
    "nltk.download('stopwords')\n",
    "nltk.download('maxent_ne_chunker')\n",
    "nltk.download('averaged_perceptron_tagger')"
   ]
  },
  {
   "cell_type": "code",
   "execution_count": 3,
   "metadata": {
    "collapsed": true
   },
   "outputs": [],
   "source": [
    "import logging\n",
    "logging.basicConfig(format='%(asctime)s : %(levelname)s : %(message)s', level=logging.INFO)"
   ]
  },
  {
   "cell_type": "code",
   "execution_count": 4,
   "metadata": {
    "collapsed": true
   },
   "outputs": [],
   "source": [
    "book_filenames = sorted(glob.glob(\"data/*.txt\"))"
   ]
  },
  {
   "cell_type": "code",
   "execution_count": 5,
   "metadata": {
    "collapsed": true
   },
   "outputs": [],
   "source": [
    "corpus_raw = u\"\"\n",
    "for book_filename in book_filenames:\n",
    "    with codecs.open(book_filename, \"r\", \"utf-8\") as book_file:\n",
    "        corpus_raw += book_file.read()"
   ]
  },
  {
   "cell_type": "code",
   "execution_count": 6,
   "metadata": {
    "collapsed": true
   },
   "outputs": [],
   "source": [
    "tokenizer = nltk.data.load('tokenizers/punkt/english.pickle')"
   ]
  },
  {
   "cell_type": "code",
   "execution_count": 7,
   "metadata": {
    "collapsed": false
   },
   "outputs": [],
   "source": [
    "raw_sentences = tokenizer.tokenize(corpus_raw)"
   ]
  },
  {
   "cell_type": "code",
   "execution_count": 8,
   "metadata": {
    "collapsed": true
   },
   "outputs": [],
   "source": [
    "def sentence_to_wordlist(raw, remove_stopwords):\n",
    "    clean = re.sub(\"[^a-zA-Z]\",\" \", raw)\n",
    "    words = clean.lower().split()\n",
    "    \n",
    "    if remove_stopwords ==True:\n",
    "        stops = set(stopwords.words(\"english\"))\n",
    "        words = [w for w in words if not w in stops]\n",
    "    return words"
   ]
  },
  {
   "cell_type": "code",
   "execution_count": 9,
   "metadata": {
    "collapsed": false
   },
   "outputs": [],
   "source": [
    "sentences = []\n",
    "for raw_sentence in raw_sentences:\n",
    "    if len(raw_sentence) > 0:\n",
    "        sentences.append(sentence_to_wordlist(raw_sentence, remove_stopwords=True))"
   ]
  },
  {
   "cell_type": "code",
   "execution_count": 10,
   "metadata": {
    "collapsed": false
   },
   "outputs": [
    {
     "data": {
      "text/plain": [
       "'This edition contains the complete text of the original hardcover edition.'"
      ]
     },
     "execution_count": 10,
     "metadata": {},
     "output_type": "execute_result"
    }
   ],
   "source": [
    "raw_sentences[0]"
   ]
  },
  {
   "cell_type": "code",
   "execution_count": 11,
   "metadata": {
    "collapsed": false
   },
   "outputs": [
    {
     "data": {
      "text/plain": [
       "['edition', 'contains', 'complete', 'text', 'original', 'hardcover', 'edition']"
      ]
     },
     "execution_count": 11,
     "metadata": {},
     "output_type": "execute_result"
    }
   ],
   "source": [
    "sentence_to_wordlist(raw_sentences[0],remove_stopwords=True)"
   ]
  },
  {
   "cell_type": "code",
   "execution_count": 12,
   "metadata": {
    "collapsed": false
   },
   "outputs": [
    {
     "data": {
      "text/plain": [
       "['edition', 'contains', 'complete', 'text', 'original', 'hardcover', 'edition']"
      ]
     },
     "execution_count": 12,
     "metadata": {},
     "output_type": "execute_result"
    }
   ],
   "source": [
    "sentences[0]"
   ]
  },
  {
   "cell_type": "code",
   "execution_count": 13,
   "metadata": {
    "collapsed": false
   },
   "outputs": [
    {
     "name": "stderr",
     "output_type": "stream",
     "text": [
      "2018-01-12 17:48:12,443 : INFO : collecting all words and their counts\n",
      "2018-01-12 17:48:12,445 : INFO : PROGRESS: at sentence #0, processed 0 words, keeping 0 word types\n",
      "2018-01-12 17:48:12,462 : INFO : PROGRESS: at sentence #10000, processed 70784 words, keeping 9060 word types\n",
      "2018-01-12 17:48:12,480 : INFO : PROGRESS: at sentence #20000, processed 139816 words, keeping 11861 word types\n",
      "2018-01-12 17:48:12,499 : INFO : PROGRESS: at sentence #30000, processed 210625 words, keeping 13912 word types\n",
      "2018-01-12 17:48:12,517 : INFO : PROGRESS: at sentence #40000, processed 278456 words, keeping 15314 word types\n",
      "2018-01-12 17:48:12,532 : INFO : PROGRESS: at sentence #50000, processed 343195 words, keeping 16444 word types\n",
      "2018-01-12 17:48:12,551 : INFO : PROGRESS: at sentence #60000, processed 415524 words, keeping 17666 word types\n",
      "2018-01-12 17:48:12,570 : INFO : PROGRESS: at sentence #70000, processed 488666 words, keeping 18774 word types\n",
      "2018-01-12 17:48:12,589 : INFO : PROGRESS: at sentence #80000, processed 560339 words, keeping 19644 word types\n",
      "2018-01-12 17:48:12,610 : INFO : PROGRESS: at sentence #90000, processed 635606 words, keeping 20649 word types\n",
      "2018-01-12 17:48:12,626 : INFO : PROGRESS: at sentence #100000, processed 701824 words, keeping 21279 word types\n",
      "2018-01-12 17:48:12,647 : INFO : PROGRESS: at sentence #110000, processed 772934 words, keeping 21871 word types\n",
      "2018-01-12 17:48:12,665 : INFO : PROGRESS: at sentence #120000, processed 847913 words, keeping 22427 word types\n",
      "2018-01-12 17:48:12,685 : INFO : collected 22805 word types from a corpus of 917562 raw words and 128868 sentences\n",
      "2018-01-12 17:48:12,686 : INFO : Loading a fresh vocabulary\n",
      "2018-01-12 17:48:12,789 : INFO : min_count=40 retains 3356 unique words (14% of original 22805, drops 19449)\n",
      "2018-01-12 17:48:12,790 : INFO : min_count=40 leaves 778547 word corpus (84% of original 917562, drops 139015)\n",
      "2018-01-12 17:48:12,809 : INFO : deleting the raw counts dictionary of 22805 items\n",
      "2018-01-12 17:48:12,811 : INFO : sample=0.001 downsamples 37 most-common words\n",
      "2018-01-12 17:48:12,812 : INFO : downsampling leaves estimated 739293 word corpus (95.0% of prior 778547)\n",
      "2018-01-12 17:48:12,812 : INFO : estimated required memory for 3356 words and 300 dimensions: 9732400 bytes\n",
      "2018-01-12 17:48:12,828 : INFO : resetting layer weights\n",
      "2018-01-12 17:48:12,881 : INFO : training model with 4 workers on 3356 vocabulary and 300 features, using sg=0 hs=0 sample=0.001 negative=5 window=10\n",
      "2018-01-12 17:48:13,889 : INFO : PROGRESS: at 25.58% examples, 941087 words/s, in_qsize 8, out_qsize 0\n",
      "2018-01-12 17:48:14,892 : INFO : PROGRESS: at 52.91% examples, 972520 words/s, in_qsize 7, out_qsize 0\n",
      "2018-01-12 17:48:15,893 : INFO : PROGRESS: at 81.68% examples, 1004463 words/s, in_qsize 6, out_qsize 1\n",
      "2018-01-12 17:48:16,430 : INFO : worker thread finished; awaiting finish of 3 more threads\n",
      "2018-01-12 17:48:16,431 : INFO : worker thread finished; awaiting finish of 2 more threads\n",
      "2018-01-12 17:48:16,440 : INFO : worker thread finished; awaiting finish of 1 more threads\n",
      "2018-01-12 17:48:16,444 : INFO : worker thread finished; awaiting finish of 0 more threads\n",
      "2018-01-12 17:48:16,445 : INFO : training on 4587810 raw words (3696570 effective words) took 3.6s, 1039148 effective words/s\n",
      "2018-01-12 17:48:16,447 : INFO : precomputing L2-norms of word weight vectors\n"
     ]
    }
   ],
   "source": [
    "num_features = 300             \n",
    "min_word_count = 40                         \n",
    "num_workers = 4      \n",
    "context = 10                                                                                         \n",
    "downsampling = 1e-3\n",
    "\n",
    "model = word2vec.Word2Vec(sentences, workers=num_workers, size=num_features, min_count = min_word_count, window = context, sample = downsampling, seed=1)\n",
    "model.init_sims(replace=True)"
   ]
  },
  {
   "cell_type": "code",
   "execution_count": 14,
   "metadata": {
    "collapsed": false
   },
   "outputs": [
    {
     "name": "stderr",
     "output_type": "stream",
     "text": [
      "2018-01-12 17:48:16,489 : INFO : saving Word2Vec object under Model_GameOfThrones.w2v, separately None\n",
      "2018-01-12 17:48:16,490 : INFO : not storing attribute syn0norm\n",
      "2018-01-12 17:48:16,491 : INFO : not storing attribute cum_table\n",
      "2018-01-12 17:48:16,570 : INFO : saved Model_GameOfThrones.w2v\n"
     ]
    }
   ],
   "source": [
    "model_name = \"Model_GameOfThrones.w2v\"\n",
    "model.save(model_name)"
   ]
  },
  {
   "cell_type": "code",
   "execution_count": 15,
   "metadata": {
    "collapsed": false
   },
   "outputs": [
    {
     "name": "stderr",
     "output_type": "stream",
     "text": [
      "/home/hell_raider/.local/lib/python3.5/site-packages/ipykernel_launcher.py:1: DeprecationWarning: Call to deprecated `most_similar` (Method will be removed in 4.0.0, use self.wv.most_similar() instead).\n",
      "  \"\"\"Entry point for launching an IPython kernel.\n"
     ]
    },
    {
     "data": {
      "text/plain": [
       "[('eddard', 0.882941722869873),\n",
       " ('brandon', 0.8579574227333069),\n",
       " ('winterfell', 0.8381671905517578),\n",
       " ('greyjoy', 0.8192138671875),\n",
       " ('arryn', 0.8166550397872925),\n",
       " ('robb', 0.8158931732177734),\n",
       " ('murdered', 0.7681968212127686),\n",
       " ('eyrie', 0.7671515941619873),\n",
       " ('tully', 0.7614095211029053),\n",
       " ('lysa', 0.7579076290130615)]"
      ]
     },
     "execution_count": 15,
     "metadata": {},
     "output_type": "execute_result"
    }
   ],
   "source": [
    "model.most_similar(\"stark\")"
   ]
  },
  {
   "cell_type": "code",
   "execution_count": 16,
   "metadata": {
    "collapsed": false
   },
   "outputs": [
    {
     "name": "stderr",
     "output_type": "stream",
     "text": [
      "/home/hell_raider/.local/lib/python3.5/site-packages/ipykernel_launcher.py:1: DeprecationWarning: Call to deprecated `most_similar` (Method will be removed in 4.0.0, use self.wv.most_similar() instead).\n",
      "  \"\"\"Entry point for launching an IPython kernel.\n"
     ]
    },
    {
     "data": {
      "text/plain": [
       "[('qarth', 0.8836590647697449),\n",
       " ('astapor', 0.8751976490020752),\n",
       " ('dothraki', 0.873629093170166),\n",
       " ('slave', 0.8560819625854492),\n",
       " ('volantis', 0.8530198335647583),\n",
       " ('slaves', 0.8477765321731567),\n",
       " ('khal', 0.8446255922317505),\n",
       " ('cities', 0.8395211696624756),\n",
       " ('meereen', 0.8256964683532715),\n",
       " ('drogo', 0.8130451440811157)]"
      ]
     },
     "execution_count": 16,
     "metadata": {},
     "output_type": "execute_result"
    }
   ],
   "source": [
    "model.most_similar(\"dragons\")"
   ]
  },
  {
   "cell_type": "code",
   "execution_count": 17,
   "metadata": {
    "collapsed": false
   },
   "outputs": [
    {
     "name": "stderr",
     "output_type": "stream",
     "text": [
      "/home/hell_raider/.local/lib/python3.5/site-packages/ipykernel_launcher.py:1: DeprecationWarning: Call to deprecated `most_similar` (Method will be removed in 4.0.0, use self.wv.most_similar() instead).\n",
      "  \"\"\"Entry point for launching an IPython kernel.\n"
     ]
    },
    {
     "data": {
      "text/plain": [
       "[('wildlings', 0.8249320983886719),\n",
       " ('beyond', 0.8238693475723267),\n",
       " ('shadow', 0.7784423828125),\n",
       " ('crows', 0.7651476860046387),\n",
       " ('tower', 0.759387731552124),\n",
       " ('rayder', 0.7417905926704407),\n",
       " ('horn', 0.7346325516700745),\n",
       " ('ice', 0.7339869737625122),\n",
       " ('giants', 0.7296798229217529),\n",
       " ('ruins', 0.7256316542625427)]"
      ]
     },
     "execution_count": 17,
     "metadata": {},
     "output_type": "execute_result"
    }
   ],
   "source": [
    "model.most_similar(\"wall\")"
   ]
  },
  {
   "cell_type": "code",
   "execution_count": 18,
   "metadata": {
    "collapsed": false
   },
   "outputs": [
    {
     "name": "stderr",
     "output_type": "stream",
     "text": [
      "2018-01-12 17:48:16,935 : INFO : loading Word2Vec object from Model_GameOfThrones.w2v\n",
      "2018-01-12 17:48:17,010 : INFO : loading wv recursively from Model_GameOfThrones.w2v.wv.* with mmap=None\n",
      "2018-01-12 17:48:17,011 : INFO : setting ignored attribute syn0norm to None\n",
      "2018-01-12 17:48:17,011 : INFO : setting ignored attribute cum_table to None\n",
      "2018-01-12 17:48:17,012 : INFO : loaded Model_GameOfThrones.w2v\n"
     ]
    }
   ],
   "source": [
    "load_model = word2vec.Word2Vec.load(\"Model_GameOfThrones.w2v\")"
   ]
  },
  {
   "cell_type": "code",
   "execution_count": null,
   "metadata": {
    "collapsed": true
   },
   "outputs": [],
   "source": []
  }
 ],
 "metadata": {
  "kernelspec": {
   "display_name": "Python 3",
   "language": "python",
   "name": "python3"
  },
  "language_info": {
   "codemirror_mode": {
    "name": "ipython",
    "version": 3
   },
   "file_extension": ".py",
   "mimetype": "text/x-python",
   "name": "python",
   "nbconvert_exporter": "python",
   "pygments_lexer": "ipython3",
   "version": "3.5.2"
  }
 },
 "nbformat": 4,
 "nbformat_minor": 2
}
